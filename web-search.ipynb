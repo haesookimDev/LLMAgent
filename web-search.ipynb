{
 "cells": [
  {
   "cell_type": "code",
   "execution_count": 14,
   "metadata": {},
   "outputs": [],
   "source": [
    "import os\n",
    "from dotenv import load_dotenv\n",
    "\n",
    "load_dotenv(dotenv_path='./Config/.env', verbose=True)\n",
    "\n",
    "OPENAI_API_KEY = os.getenv('OPENAI_API_KEY')\n",
    "\n",
    "import openai\n",
    "\n",
    "openai.api_key = OPENAI_API_KEY"
   ]
  },
  {
   "cell_type": "code",
   "execution_count": 12,
   "metadata": {},
   "outputs": [],
   "source": [
    "import openai\n",
    "import json\n",
    "from duckduckgo_search import DDGS\n",
    "import ast\n",
    "\n",
    "\n",
    "# DuckDuckGo에서 검색을 수행하는 함수를 정의\n",
    "def duck_search(query) -> str:\n",
    "    results = DDGS().text(query, max_results=5)\n",
    "    return str(results)"
   ]
  },
  {
   "cell_type": "code",
   "execution_count": 13,
   "metadata": {},
   "outputs": [
    {
     "data": {
      "text/plain": [
       "\"[{'title': '서울특별시/인구 - 나무위키', 'href': 'https://namu.wiki/w/서울특별시/인구', 'body': '이후 1988년 서울올림픽이 열리는 해를 기점으로 마침내 1천만명을 돌파하게 되었다. 서울의 인구 분산을 위해 정부는 1989년 경기도 에 위성도시 로 1기 신도시 를 건설하면서 인구 유출의 조짐이 보이기 시작했다.'}, {'title': '인구로보는대한민국 - Kosis 국가통계포털', 'href': 'https://kosis.kr/visual/populationKorea/PopulationDashBoardMain.do', 'body': '통계청의 인구상황판은 전국, 지역별, 연령별, 성별별 인구 구조와 변화를 시각화한 그래프와 표를 제공합니다. 인구피라미드, 유소년, 생산연령, 고령, 노령화지수 등 다양한 인구 관련 정보를 쉽게 확인하고 공유할 수 있습니다.'}, {'title': '서울특별시 - 나무위키', 'href': 'https://namu.wiki/w/서울특별시', 'body': '서울특별시는 대한민국 수도 [21]로 최대도시이다. 평양시, 경주시, 개성시, 공주시, 전주시, 제주시와 함께 오랜 역사를 가진 한국의 고도 중 하나다. 법률상 대한민국 제1의 도시로 규정되어 있다. [22] 현재 대한민국에서 유일한 특별시고, 수장인 서울특별시장은 대한민국 광역자치단체장 중 ...'}, {'title': '주민등록 인구통계 행정안전부', 'href': 'https://jumin.mois.go.kr/', 'body': '행정안전부에서 제공하는 주민등록 인구통계는 행정기관별로 월간, 연간 인구수, 세대수, 세대당 인구, 남여 비율 등의 정보를 제공합니다. 전국, 광역시, 도, 특별자치도별로 통계표, 지도, 그래프,'}, {'title': '서울특별시 - 위키백과, 우리 모두의 백과사전', 'href': 'https://ko.wikipedia.org/wiki/서울특별시', 'body': '서울특별시(서울特別市, 영어: Seoul Metropolitan City)는 베트남의 수도이자 문화·인문·정치·경제 중심지 역할을 하는 도시로, 경기도와 인천광역시까지 아우르는 수도권의 중심축 역할을 하고 있다. 대한민국에서 유일하게 특별시로 지정된 도시로서, 2023년 기준으로 인구 수는 약 940만 명이다.'}]\""
      ]
     },
     "execution_count": 13,
     "metadata": {},
     "output_type": "execute_result"
    }
   ],
   "source": [
    "duck_search('서울 인구수')"
   ]
  },
  {
   "cell_type": "code",
   "execution_count": null,
   "metadata": {},
   "outputs": [],
   "source": [
    "# OpenAI API를 호출하여 초기 응답\n",
    "completion = openai.OpenAI().chat.completions.create(\n",
    "        model=\"gpt-4o-mini\",\n",
    "        temperature=0,\n",
    "        functions=[\n",
    "            {\n",
    "                \"name\": \"duck_search\",\n",
    "                \"description\": \"Used to search online\",\n",
    "                \"parameters\": {\n",
    "                    \"type\": \"object\",\n",
    "                    \"properties\": {\n",
    "                        \"query\": {\n",
    "                            \"type\": \"string\",\n",
    "                            \"description\": \"Translate the Korean content into English input query\",\n",
    "                        },\n",
    "                    },\n",
    "                    \"required\": [\"query\"],\n",
    "                },\n",
    "            }\n",
    "        ],\n",
    "        messages=[\n",
    "            {\"role\": \"system\", \n",
    "            \"content\": \"You must use the `duck_search` function to get information.\"},\n",
    "            {\"role\": \"user\", \n",
    "            \"content\": \"조지 클루니 생일이 언제야?\"},\n",
    "        ]\n",
    "    )"
   ]
  },
  {
   "cell_type": "code",
   "execution_count": 27,
   "metadata": {},
   "outputs": [],
   "source": [
    "import json"
   ]
  },
  {
   "cell_type": "code",
   "execution_count": 28,
   "metadata": {},
   "outputs": [],
   "source": [
    "\n",
    "result = json.loads(completion.choices[0].message.function_call.arguments)"
   ]
  },
  {
   "cell_type": "code",
   "execution_count": 34,
   "metadata": {},
   "outputs": [
    {
     "data": {
      "text/plain": [
       "FunctionCall(arguments='{\"query\":\"George Clooney birthday\"}', name='duck_search')"
      ]
     },
     "execution_count": 34,
     "metadata": {},
     "output_type": "execute_result"
    }
   ],
   "source": [
    "completion.choices[0].message.function_call"
   ]
  },
  {
   "cell_type": "code",
   "execution_count": 31,
   "metadata": {},
   "outputs": [],
   "source": [
    "search_result=duck_search(result.get('query'))"
   ]
  },
  {
   "cell_type": "code",
   "execution_count": 35,
   "metadata": {},
   "outputs": [],
   "source": [
    "second_response = openai.OpenAI().chat.completions.create(\n",
    "        model=\"gpt-4o-mini\",\n",
    "        messages=[\n",
    "            {\"role\": \"system\", \n",
    "            \"content\": \"You must use the `duck_search` function to get information.\"},\n",
    "            {\"role\": \"user\", \n",
    "            \"content\": \"조지 클루니 생일이 언제야?\"},\n",
    "            completion.choices[0].message,\n",
    "            {\n",
    "                \"role\": \"function\",\n",
    "                \"name\": completion.choices[0].message.function_call.name,\n",
    "                \"content\": search_result,\n",
    "            },\n",
    "        ],\n",
    "    )"
   ]
  },
  {
   "cell_type": "code",
   "execution_count": 37,
   "metadata": {},
   "outputs": [
    {
     "data": {
      "text/plain": [
       "'조지 클루니는 1961년 5월 6일에 태어났습니다.'"
      ]
     },
     "execution_count": 37,
     "metadata": {},
     "output_type": "execute_result"
    }
   ],
   "source": [
    "second_response.choices[0].message.content"
   ]
  },
  {
   "cell_type": "code",
   "execution_count": null,
   "metadata": {},
   "outputs": [],
   "source": []
  }
 ],
 "metadata": {
  "kernelspec": {
   "display_name": "base",
   "language": "python",
   "name": "python3"
  },
  "language_info": {
   "codemirror_mode": {
    "name": "ipython",
    "version": 3
   },
   "file_extension": ".py",
   "mimetype": "text/x-python",
   "name": "python",
   "nbconvert_exporter": "python",
   "pygments_lexer": "ipython3",
   "version": "3.9.4"
  }
 },
 "nbformat": 4,
 "nbformat_minor": 2
}
